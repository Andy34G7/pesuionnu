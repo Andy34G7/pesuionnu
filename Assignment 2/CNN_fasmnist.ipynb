{
 "cells": [
  {
   "cell_type": "code",
   "execution_count": 44,
   "id": "03dc09fc-d041-4e44-92d6-54121fbc7536",
   "metadata": {},
   "outputs": [],
   "source": [
    "from torch.utils.data import random_split\n",
    "from torch.utils.data import DataLoader\n",
    "from torchvision.transforms import ToTensor\n",
    "from torchvision.datasets import FashionMNIST\n",
    "from torch.optim import Adam\n",
    "from torch import nn\n",
    "from torch import flatten\n",
    "import matplotlib.pyplot as plt\n",
    "import numpy as np\n",
    "import argparse\n",
    "import torch\n",
    "import time"
   ]
  },
  {
   "cell_type": "code",
   "execution_count": 45,
   "id": "38c1b1e9-1123-4b24-a485-44ab6b6ad256",
   "metadata": {},
   "outputs": [],
   "source": [
    "class simple_cnn(nn.Module):\n",
    "    #Made using LeNet as reference, use relu fn and maxpool\n",
    "    def __init__(self, classes, numChannels=1):\n",
    "\t\t# call the parent constructor\n",
    "        super(simple_cnn, self).__init__()\n",
    "\t\t# First convolution-relu-maxpool layer\n",
    "        self.conv1 = nn.Conv2d(in_channels=numChannels, out_channels=20, kernel_size=(5, 5))\n",
    "        self.relu1 = nn.ReLU()\n",
    "        self.maxpool1 = nn.MaxPool2d(kernel_size=(2, 2), stride=(2, 2))\n",
    "\t\t# Second convolution-relu-maxpool layer\n",
    "        self.conv2 = nn.Conv2d(in_channels=20, out_channels=50, kernel_size=(5, 5))\n",
    "        self.relu2 = nn.ReLU()\n",
    "        self.maxpool2 = nn.MaxPool2d(kernel_size=(2, 2), stride=(2, 2))\n",
    "\t\t# initialize first (and only) set of FC => RELU layers\n",
    "        self.fc1 = nn.Linear(in_features=800, out_features=500)\n",
    "        self.relu3 = nn.ReLU()\n",
    "\t\t# initialize our softmax classifier\n",
    "        self.fc2 = nn.Linear(in_features=500, out_features=classes)\n",
    "        self.logSoftmax = nn.LogSoftmax(dim=1)\n",
    "\n",
    "    def forward(self, x):\n",
    "\t\t# first set of CONV => RELU =>POOL layers\n",
    "        x = self.conv1(x)\n",
    "        x = self.relu1(x)\n",
    "        x = self.maxpool1(x)\n",
    "        #x = self.relu1(x)\n",
    "\t\t# the second set of CONV => RELU => POOL layers\n",
    "        x = self.conv2(x)\n",
    "        x = self.relu2(x)\n",
    "        x = self.maxpool2(x)\n",
    "        #x = self.relu2(x)\n",
    "        x = flatten(x, 1)\n",
    "        x = self.fc1(x)\n",
    "        x = self.relu3(x)\n",
    "\t\t# pass the output to softmax\n",
    "        x = self.fc2(x)\n",
    "        output = self.logSoftmax(x)\n",
    "\t\t# return the output predictions\n",
    "        return output"
   ]
  },
  {
   "cell_type": "code",
   "execution_count": 46,
   "id": "846cf884-7a23-45ec-80d5-49e6470d5b49",
   "metadata": {},
   "outputs": [],
   "source": [
    "# define training hyperparameters\n",
    "learning_rate = 0.001\n",
    "batch_size = 64\n",
    "epochs = 15\n",
    "# define the train and val splits\n",
    "TRAIN_SPLIT = 0.75\n",
    "TEST_SPLIT = 1 - TRAIN_SPLIT\n",
    "# set the device we will be using to train the model\n",
    "device = torch.device(\"cuda\" if torch.cuda.is_available() else \"cpu\")\n"
   ]
  },
  {
   "cell_type": "code",
   "execution_count": 47,
   "id": "ee396b92-d79f-4bec-8115-0e8a95557380",
   "metadata": {},
   "outputs": [
    {
     "name": "stdout",
     "output_type": "stream",
     "text": [
      "Loading the FashionMNIST dataset...\n",
      "Generating the train/Test split...\n"
     ]
    }
   ],
   "source": [
    "print(\"Loading the FashionMNIST dataset...\")\n",
    "trainData = FashionMNIST(root=\"data\", train=True, download=True,transform=ToTensor())\n",
    "testData = FashionMNIST(root=\"data\", train=False, download=True, transform=ToTensor())\n",
    "# calculate the train/validation split\n",
    "print(\"Generating the train/Test split...\")\n",
    "numTrainSamples = int(len(trainData) * TRAIN_SPLIT)\n",
    "numTestSamples = int(len(trainData) * TEST_SPLIT)\n",
    "(trainData, testData) = random_split(trainData, [numTrainSamples, numTestSamples], generator=torch.Generator().manual_seed(34))"
   ]
  },
  {
   "cell_type": "code",
   "execution_count": 48,
   "id": "2de3ee7e-ef30-4bfd-9b26-bb84373c3b71",
   "metadata": {},
   "outputs": [],
   "source": [
    "# initialize the train, validation, and test data loaders\n",
    "trainDataLoader = DataLoader(trainData, shuffle=True, batch_size=batch_size)\n",
    "testDataLoader = DataLoader(testData, batch_size=batch_size)\n",
    "# calculate steps per epoch for training and validation set\n",
    "trainSteps = len(trainDataLoader.dataset) // batch_size\n",
    "testSteps = len(testDataLoader.dataset) // batch_size\n"
   ]
  },
  {
   "cell_type": "code",
   "execution_count": 49,
   "id": "d8d59d3b-eda1-49d1-aad7-a36b452272d6",
   "metadata": {},
   "outputs": [
    {
     "name": "stdout",
     "output_type": "stream",
     "text": [
      "Initializing the CNN model...\n",
      "Training the network...\n"
     ]
    }
   ],
   "source": [
    "# initialize the model\n",
    "print(\"Initializing the CNN model...\")\n",
    "model = simple_cnn(numChannels=1, classes=len(trainData.dataset.classes)).to(device)\n",
    "# initialize our optimizer and loss function\n",
    "opt = Adam(model.parameters(), lr=learning_rate, weight_decay=0.002)\n",
    "lossFn = nn.NLLLoss()\n",
    "# initialize a dictionary to store training history\n",
    "H = {\n",
    "\t\"train_loss\": [],\n",
    "\t\"train_acc\": [],\n",
    "\t\"test_loss\": [],\n",
    "\t\"test_acc\": []\n",
    "}\n",
    "# measure how long training is going to take\n",
    "print(\"Training the network...\")\n",
    "startTime = time.time()\n"
   ]
  },
  {
   "cell_type": "code",
   "execution_count": 50,
   "id": "d208c2b0-6ec5-4752-85f2-69131b31a1d7",
   "metadata": {},
   "outputs": [
    {
     "name": "stdout",
     "output_type": "stream",
     "text": [
      "EPOCH: 1/15\n",
      "Train loss: 0.596227, Train accuracy: 0.7838\n",
      "Test loss: 0.439553, Test accuracy: 0.8415\n",
      "\n",
      "EPOCH: 2/15\n",
      "Train loss: 0.399142, Train accuracy: 0.8567\n",
      "Test loss: 0.383232, Test accuracy: 0.8616\n",
      "\n",
      "EPOCH: 3/15\n",
      "Train loss: 0.357671, Train accuracy: 0.8715\n",
      "Test loss: 0.336620, Test accuracy: 0.8800\n",
      "\n",
      "EPOCH: 4/15\n",
      "Train loss: 0.332428, Train accuracy: 0.8806\n",
      "Test loss: 0.353840, Test accuracy: 0.8697\n",
      "\n",
      "EPOCH: 5/15\n",
      "Train loss: 0.315186, Train accuracy: 0.8858\n",
      "Test loss: 0.335830, Test accuracy: 0.8775\n",
      "\n",
      "EPOCH: 6/15\n",
      "Train loss: 0.307948, Train accuracy: 0.8896\n",
      "Test loss: 0.324906, Test accuracy: 0.8817\n",
      "\n",
      "EPOCH: 7/15\n",
      "Train loss: 0.297724, Train accuracy: 0.8925\n",
      "Test loss: 0.365331, Test accuracy: 0.8623\n",
      "\n",
      "EPOCH: 8/15\n",
      "Train loss: 0.285312, Train accuracy: 0.8976\n",
      "Test loss: 0.299998, Test accuracy: 0.8911\n",
      "\n",
      "EPOCH: 9/15\n",
      "Train loss: 0.282164, Train accuracy: 0.8985\n",
      "Test loss: 0.299059, Test accuracy: 0.8911\n",
      "\n",
      "EPOCH: 10/15\n",
      "Train loss: 0.278140, Train accuracy: 0.8995\n",
      "Test loss: 0.284704, Test accuracy: 0.9005\n",
      "\n",
      "EPOCH: 11/15\n",
      "Train loss: 0.268968, Train accuracy: 0.9033\n",
      "Test loss: 0.300850, Test accuracy: 0.8901\n",
      "\n",
      "EPOCH: 12/15\n",
      "Train loss: 0.268872, Train accuracy: 0.9032\n",
      "Test loss: 0.313772, Test accuracy: 0.8851\n",
      "\n",
      "EPOCH: 13/15\n",
      "Train loss: 0.265054, Train accuracy: 0.9046\n",
      "Test loss: 0.290462, Test accuracy: 0.8955\n",
      "\n",
      "EPOCH: 14/15\n",
      "Train loss: 0.260659, Train accuracy: 0.9060\n",
      "Test loss: 0.288988, Test accuracy: 0.8940\n",
      "\n",
      "EPOCH: 15/15\n",
      "Train loss: 0.260348, Train accuracy: 0.9076\n",
      "Test loss: 0.307660, Test accuracy: 0.8861\n",
      "\n",
      "Total time taken to train the model: 1373.53s\n",
      "Evaluating network...\n"
     ]
    }
   ],
   "source": [
    "# loop over our epochs\n",
    "for e in range(0, epochs):\n",
    "\t# set the model in training mode\n",
    "\tmodel.train()\n",
    "\t# initialize the total training and validation loss\n",
    "\ttotalTrainLoss = 0\n",
    "\ttotalTestLoss = 0\n",
    "\t# initialize the number of correct predictions in the training\n",
    "\t# and validation step\n",
    "\ttrainCorrect = 0\n",
    "\ttestCorrect = 0\n",
    "\t# loop over the training set\n",
    "\tfor (x, y) in trainDataLoader:\n",
    "\t\t# send the input to the device\n",
    "\t\t(x, y) = (x.to(device), y.to(device))\n",
    "\t\t# perform a forward pass and calculate the training loss\n",
    "\t\tpred = model(x)\n",
    "\t\tloss = lossFn(pred, y)\n",
    "\t\t# zero out the gradients, perform the backpropagation step, and update the weights\n",
    "\t\topt.zero_grad()\n",
    "\t\tloss.backward()\n",
    "\t\topt.step()\n",
    "\t\t# add the loss to the total training loss so far and\n",
    "\t\t# calculate the number of correct predictions\n",
    "\t\ttotalTrainLoss += loss\n",
    "\t\ttrainCorrect += (pred.argmax(1) == y).type(\n",
    "\t\t\ttorch.float).sum().item()\n",
    "\n",
    "\n",
    "    \n",
    "    # switch off autograd for evaluation\n",
    "\twith torch.no_grad():\n",
    "\t\t# set the model in evaluation mode\n",
    "\t\tmodel.eval()\n",
    "\t\t# loop over the validation set\n",
    "\t\tfor (x, y) in testDataLoader:\n",
    "\t\t\t# send the input to the device\n",
    "\t\t\t(x, y) = (x.to(device), y.to(device))\n",
    "\t\t\t# make the predictions and calculate the validation loss\n",
    "\t\t\tpred = model(x)\n",
    "\t\t\ttotalTestLoss += lossFn(pred, y)\n",
    "\t\t\t# calculate the number of correct predictions\n",
    "\t\t\ttestCorrect += (pred.argmax(1) == y).type(torch.float).sum().item()\n",
    "    # calculate the average training and test loss\n",
    "\tavgTrainLoss = totalTrainLoss / trainSteps\n",
    "\tavgTestLoss = totalTestLoss / testSteps\n",
    "\t# calculate the training and test accuracy\n",
    "\ttrainCorrect = trainCorrect / len(trainDataLoader.dataset)\n",
    "\ttestCorrect = testCorrect / len(testDataLoader.dataset)\n",
    "\t# update our training history\n",
    "\tH[\"train_loss\"].append(avgTrainLoss.cpu().detach().numpy())\n",
    "\tH[\"train_acc\"].append(trainCorrect)\n",
    "\tH[\"test_loss\"].append(avgTestLoss.cpu().detach().numpy())\n",
    "\tH[\"test_acc\"].append(testCorrect)\n",
    "\t# print the model training and testing information\n",
    "\tprint(\"EPOCH: {}/{}\".format(e + 1, epochs))\n",
    "\tprint(\"Train loss: {:.6f}, Train accuracy: {:.4f}\".format(avgTrainLoss, trainCorrect))\n",
    "\tprint(\"Test loss: {:.6f}, Test accuracy: {:.4f}\\n\".format(avgTestLoss, testCorrect))\n",
    "endTime = time.time()\n",
    "print(\"Total time taken to train the model: {:.2f}s\".format(endTime - startTime))\n",
    "print(\"Evaluating network...\")\n",
    "            "
   ]
  },
  {
   "cell_type": "code",
   "execution_count": 51,
   "id": "8e0b043c-f631-4b9b-8ef1-8a848217825f",
   "metadata": {},
   "outputs": [
    {
     "data": {
      "text/plain": [
       "<matplotlib.legend.Legend at 0x74a521b865f0>"
      ]
     },
     "execution_count": 51,
     "metadata": {},
     "output_type": "execute_result"
    },
    {
     "data": {
      "image/png": "[encoded data removed]",
      "text/plain": [
       "<Figure size 640x480 with 1 Axes>"
      ]
     },
     "metadata": {},
     "output_type": "display_data"
    }
   ],
   "source": [
    "plt.figure()\n",
    "plt.plot(H[\"train_loss\"], label=\"train_loss\")\n",
    "plt.plot(H[\"test_loss\"], label=\"test_loss\")\n",
    "plt.plot(H[\"train_acc\"], label=\"train_acc\")\n",
    "plt.plot(H[\"test_acc\"], label=\"test_acc\")\n",
    "plt.title(\"Training Loss and Accuracy on Dataset\")\n",
    "plt.xlabel(\"Epoch #\")\n",
    "plt.ylabel(\"Loss/Accuracy\")\n",
    "plt.legend(loc=\"lower left\")"
   ]
  },
  {
   "cell_type": "markdown",
   "id": "43f9a6d3-62f6-4350-83c3-593ca28935df",
   "metadata": {},
   "source": [
    "# "
   ]
  }
 ],
 "metadata": {
  "kernelspec": {
   "display_name": "Python 3 (ipykernel)",
   "language": "python",
   "name": "python3"
  },
  "language_info": {
   "codemirror_mode": {
    "name": "ipython",
    "version": 3
   },
   "file_extension": ".py",
   "mimetype": "text/x-python",
   "name": "python",
   "nbconvert_exporter": "python",
   "pygments_lexer": "ipython3",
   "version": "3.10.12"
  }
 },
 "nbformat": 4,
 "nbformat_minor": 5
}
